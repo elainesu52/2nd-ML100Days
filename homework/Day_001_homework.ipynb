{
 "cells": [
  {
   "cell_type": "markdown",
   "metadata": {},
   "source": [
    "# Homework 1-1\n",
    "## 選擇之競賽為：Google Landmark Retrieval 2019\n",
    "### https://www.kaggle.com/c/landmark-retrieval-2019/overview\n",
    "\n",
    "1. 你選的這組資料為何重要\n",
    "圖像檢索是計算機視覺中的一個基本問題，近年來，由於機器學習與圖像辨識的技術快速發展，學者們致力於發展新的演算法以提高計算機的辨識準確度，因此這個比賽的資料有助於圖像檢索的技術更新。\n",
    "\n",
    "2. 資料從何而來\n",
    "這個比賽是由Google舉辦，因此，用來進行圖像辨識的圖檔是由Google瀏覽器上，使用者們所上傳的照片擷取而來，同時在經過許可的狀況下，從景點的相關網站進行挖掘。\n",
    "\n",
    "3. 蒐集而來的資料型態為何\n",
    "此競賽的主要資料為圖像檔，因此屬於非結構化之資料型態，分析者需要針對圖像進行判斷的標準進行設定。\n",
    "\n",
    "4. 這組資料想解決的問題如何評估\n",
    "希望可以找出有效率且準確的圖像辨識方式，利用資料庫中的資料，分辨出一張新圖像所代表的景點。"
   ]
  },
  {
   "cell_type": "markdown",
   "metadata": {},
   "source": [
    "# Homework 1-2\n",
    "### 想像你經營一個自由載客車隊，你希望能透過數據分析以提升業績，請你思考並描述你如何規劃整體的分析/解決方案：\n",
    "1. 核心問題為何\n",
    "哪些地點會需要最多的載客需求？可以接受的價格計算方式？\n",
    "\n",
    "2. 資料從何而來\n",
    "*-利用網路問卷蒐集\n",
    "*-觀察同業之經營方式\n",
    "\n",
    "3. 蒐集而來的資料型態為何\n",
    "結構化的資料為主，須找出最佳化解決方案。\n",
    "\n",
    "4. 你要回答的問題，其如何評估\n",
    "利用統計理論分析數據，再配合車隊的車輛營運成本，計算出淨利最高的營運方針。(集中於那裡等待客人、行銷方式、定價策略等)"
   ]
  },
  {
   "cell_type": "code",
   "execution_count": null,
   "metadata": {},
   "outputs": [],
   "source": []
  }
 ],
 "metadata": {
  "kernelspec": {
   "display_name": "Python 3",
   "language": "python",
   "name": "python3"
  },
  "language_info": {
   "codemirror_mode": {
    "name": "ipython",
    "version": 3
   },
   "file_extension": ".py",
   "mimetype": "text/x-python",
   "name": "python",
   "nbconvert_exporter": "python",
   "pygments_lexer": "ipython3",
   "version": "3.7.1"
  }
 },
 "nbformat": 4,
 "nbformat_minor": 2
}
